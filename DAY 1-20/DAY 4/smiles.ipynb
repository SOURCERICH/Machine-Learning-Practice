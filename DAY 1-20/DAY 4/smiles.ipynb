{
 "cells": [
  {
   "cell_type": "code",
   "execution_count": 1,
   "metadata": {},
   "outputs": [],
   "source": [
    "import pandas as pd\n",
    "import numpy as np\n",
    "import seaborn as sns\n",
    "import matplotlib.pyplot as plt\n",
    "%matplotlib inline"
   ]
  },
  {
   "cell_type": "code",
   "execution_count": 2,
   "metadata": {},
   "outputs": [],
   "source": [
    "df = pd.read_csv(\"data\\SMILES_Big_Data_Set.csv\")"
   ]
  },
  {
   "cell_type": "code",
   "execution_count": 3,
   "metadata": {},
   "outputs": [
    {
     "data": {
      "text/html": [
       "<div>\n",
       "<style scoped>\n",
       "    .dataframe tbody tr th:only-of-type {\n",
       "        vertical-align: middle;\n",
       "    }\n",
       "\n",
       "    .dataframe tbody tr th {\n",
       "        vertical-align: top;\n",
       "    }\n",
       "\n",
       "    .dataframe thead th {\n",
       "        text-align: right;\n",
       "    }\n",
       "</style>\n",
       "<table border=\"1\" class=\"dataframe\">\n",
       "  <thead>\n",
       "    <tr style=\"text-align: right;\">\n",
       "      <th></th>\n",
       "      <th>pIC50</th>\n",
       "      <th>num_atoms</th>\n",
       "      <th>logP</th>\n",
       "    </tr>\n",
       "  </thead>\n",
       "  <tbody>\n",
       "    <tr>\n",
       "      <th>count</th>\n",
       "      <td>15037.000000</td>\n",
       "      <td>16087.000000</td>\n",
       "      <td>16087.000000</td>\n",
       "    </tr>\n",
       "    <tr>\n",
       "      <th>mean</th>\n",
       "      <td>0.998739</td>\n",
       "      <td>18.749984</td>\n",
       "      <td>2.256600</td>\n",
       "    </tr>\n",
       "    <tr>\n",
       "      <th>std</th>\n",
       "      <td>2.479588</td>\n",
       "      <td>8.428888</td>\n",
       "      <td>1.609861</td>\n",
       "    </tr>\n",
       "    <tr>\n",
       "      <th>min</th>\n",
       "      <td>0.000000</td>\n",
       "      <td>3.000000</td>\n",
       "      <td>-5.395600</td>\n",
       "    </tr>\n",
       "    <tr>\n",
       "      <th>25%</th>\n",
       "      <td>0.000000</td>\n",
       "      <td>13.000000</td>\n",
       "      <td>1.214900</td>\n",
       "    </tr>\n",
       "    <tr>\n",
       "      <th>50%</th>\n",
       "      <td>0.010000</td>\n",
       "      <td>17.000000</td>\n",
       "      <td>2.163200</td>\n",
       "    </tr>\n",
       "    <tr>\n",
       "      <th>75%</th>\n",
       "      <td>0.130000</td>\n",
       "      <td>23.000000</td>\n",
       "      <td>3.232440</td>\n",
       "    </tr>\n",
       "    <tr>\n",
       "      <th>max</th>\n",
       "      <td>10.970000</td>\n",
       "      <td>85.000000</td>\n",
       "      <td>15.879200</td>\n",
       "    </tr>\n",
       "  </tbody>\n",
       "</table>\n",
       "</div>"
      ],
      "text/plain": [
       "              pIC50     num_atoms          logP\n",
       "count  15037.000000  16087.000000  16087.000000\n",
       "mean       0.998739     18.749984      2.256600\n",
       "std        2.479588      8.428888      1.609861\n",
       "min        0.000000      3.000000     -5.395600\n",
       "25%        0.000000     13.000000      1.214900\n",
       "50%        0.010000     17.000000      2.163200\n",
       "75%        0.130000     23.000000      3.232440\n",
       "max       10.970000     85.000000     15.879200"
      ]
     },
     "execution_count": 3,
     "metadata": {},
     "output_type": "execute_result"
    }
   ],
   "source": [
    "df.describe()"
   ]
  },
  {
   "cell_type": "code",
   "execution_count": 4,
   "metadata": {},
   "outputs": [
    {
     "data": {
      "text/plain": [
       "SMILES        object\n",
       "pIC50        float64\n",
       "mol           object\n",
       "num_atoms      int64\n",
       "logP         float64\n",
       "dtype: object"
      ]
     },
     "execution_count": 4,
     "metadata": {},
     "output_type": "execute_result"
    }
   ],
   "source": [
    "df.dtypes"
   ]
  },
  {
   "cell_type": "code",
   "execution_count": 5,
   "metadata": {},
   "outputs": [
    {
     "data": {
      "text/plain": [
       "SMILES  pIC50  mol    num_atoms  logP \n",
       "False   False  False  False      False    15037\n",
       "        True   False  False      False     1050\n",
       "Name: count, dtype: int64"
      ]
     },
     "execution_count": 5,
     "metadata": {},
     "output_type": "execute_result"
    }
   ],
   "source": [
    "df.isnull().value_counts()"
   ]
  },
  {
   "cell_type": "code",
   "execution_count": 6,
   "metadata": {},
   "outputs": [
    {
     "name": "stdout",
     "output_type": "stream",
     "text": [
      "              pIC50     num_atoms          logP\n",
      "count  15037.000000  16087.000000  16087.000000\n",
      "mean       0.998739     18.749984      2.256600\n",
      "std        2.479588      8.428888      1.609861\n",
      "min        0.000000      3.000000     -5.395600\n",
      "25%        0.000000     13.000000      1.214900\n",
      "50%        0.010000     17.000000      2.163200\n",
      "75%        0.130000     23.000000      3.232440\n",
      "max       10.970000     85.000000     15.879200\n"
     ]
    }
   ],
   "source": [
    "numeric_columns = [\"pIC50\", \"num_atoms\", \"logP\"]\n",
    "numeric_stats = df[numeric_columns].describe()\n",
    "print(numeric_stats)"
   ]
  },
  {
   "cell_type": "code",
   "execution_count": 7,
   "metadata": {},
   "outputs": [
    {
     "data": {
      "image/png": "[encoded data removed]",
      "text/plain": [
       "<Figure size 640x480 with 1 Axes>"
      ]
     },
     "metadata": {},
     "output_type": "display_data"
    }
   ],
   "source": [
    "plt.hist(df[\"pIC50\"], bins=20, edgecolor=\"k\")\n",
    "plt.xlabel(\"pIC50 Value\")\n",
    "plt.ylabel(\"Frequency\")\n",
    "plt.title(\"Distribution of pIC50 Values\")\n",
    "plt.show()"
   ]
  },
  {
   "cell_type": "code",
   "execution_count": 8,
   "metadata": {},
   "outputs": [
    {
     "name": "stdout",
     "output_type": "stream",
     "text": [
      "              pIC50  num_atoms      logP\n",
      "pIC50      1.000000   0.514585  0.171863\n",
      "num_atoms  0.514585   1.000000  0.374893\n",
      "logP       0.171863   0.374893  1.000000\n"
     ]
    }
   ],
   "source": [
    "correlation_matrix = df[numeric_columns].corr()\n",
    "print(correlation_matrix)"
   ]
  }
 ],
 "metadata": {
  "kernelspec": {
   "display_name": "Python 3",
   "language": "python",
   "name": "python3"
  },
  "language_info": {
   "codemirror_mode": {
    "name": "ipython",
    "version": 3
   },
   "file_extension": ".py",
   "mimetype": "text/x-python",
   "name": "python",
   "nbconvert_exporter": "python",
   "pygments_lexer": "ipython3",
   "version": "3.10.11"
  },
  "orig_nbformat": 4
 },
 "nbformat": 4,
 "nbformat_minor": 2
}
